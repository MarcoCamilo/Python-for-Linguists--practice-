{
 "cells": [
  {
   "cell_type": "markdown",
   "metadata": {},
   "source": [
    "# Chapter 4: Input–Output"
   ]
  },
  {
   "cell_type": "markdown",
   "metadata": {},
   "source": [
    "## 4.1 Command-Line Input"
   ]
  },
  {
   "cell_type": "markdown",
   "metadata": {},
   "source": [
    "To access extra functions and variables in different optional parts of Python, you must make them available to your program with an `import` statement *always at the beginning* of your program."
   ]
  },
  {
   "cell_type": "code",
   "execution_count": 1,
   "metadata": {},
   "outputs": [
    {
     "name": "stdout",
     "output_type": "stream",
     "text": [
      "['/Library/Frameworks/Python.framework/Versions/3.10/lib/python3.10/site-packages/ipykernel_launcher.py', '--ip=127.0.0.1', '--stdin=9016', '--control=9014', '--hb=9013', '--Session.signature_scheme=\"hmac-sha256\"', '--Session.key=b\"c8733f7a-04bc-4b40-abfe-0bf1d318e270\"', '--shell=9015', '--transport=\"tcp\"', '--iopub=9017', '--f=/Users/marco-andres/Library/Jupyter/runtime/kernel-v2-63306O2WtY3BVx7AL.json']\n"
     ]
    }
   ],
   "source": [
    "import sys\n",
    "\n",
    "print(sys.argv)"
   ]
  },
  {
   "cell_type": "markdown",
   "metadata": {},
   "source": [
    "**Example**: Revising the vowel counter using `sys.argv`"
   ]
  },
  {
   "cell_type": "code",
   "execution_count": 4,
   "metadata": {},
   "outputs": [
    {
     "name": "stdout",
     "output_type": "stream",
     "text": [
      "--ip=127.0.0.1\n",
      "There are 1 vowels in this word\n"
     ]
    }
   ],
   "source": [
    "import sys\n",
    "\n",
    "vowels = \"aeiou\"\n",
    "word = sys.argv[1]\n",
    "counter = 0\n",
    "vowelcount = 0\n",
    "while counter < len(word):\n",
    "    if word[counter] in vowels:\n",
    "        vowelcount += 1\n",
    "    counter +=1\n",
    "else:\n",
    "    print(word)\n",
    "    print('There are',vowelcount,'vowels in this word')"
   ]
  },
  {
   "cell_type": "markdown",
   "metadata": {},
   "source": [
    "^ You call upon this script in Terminal and the `sys.argv[1]` selects argument #1 of the command:\n",
    "\n",
    "> \\> python io1.py **hello** \n",
    ">\n",
    "> \\> *\"There are 2 vowels in this word\"*"
   ]
  },
  {
   "cell_type": "markdown",
   "metadata": {},
   "source": [
    "## 4.2 Keyboard Input\n",
    "**Example**: Number guessing game"
   ]
  },
  {
   "cell_type": "code",
   "execution_count": 1,
   "metadata": {
    "scrolled": true
   },
   "outputs": [
    {
     "name": "stdout",
     "output_type": "stream",
     "text": [
      "It's lower\n",
      "It's higher\n",
      "It's higher\n",
      "That's right!\n"
     ]
    }
   ],
   "source": [
    "import random\n",
    "\n",
    "numbers = \"0123456789\"\n",
    "\n",
    "number = numbers[random.randint(0,9)]\n",
    "\n",
    "while True:\n",
    "    guess = input('Type a single digit: ')\n",
    "    if guess not in numbers:\n",
    "        print(\"That's not a single digit\")\n",
    "    if guess == number:\n",
    "        print(\"That's right!\")\n",
    "        break\n",
    "    if guess > number:\n",
    "        print(\"It's lower\")\n",
    "    else:\n",
    "        print(\"It's higher\")\n",
    "        "
   ]
  },
  {
   "cell_type": "markdown",
   "metadata": {},
   "source": [
    "## 4.3 File Input–Output"
   ]
  },
  {
   "cell_type": "markdown",
   "metadata": {},
   "source": [
    "A few principles before writing files:\n",
    "1. Do not experiment with important files. Create toy files to play with.\n",
    "2. When you do want to start working on your own files, do not use those files directly. It’s much safer to create copies of these files and work with those.\n",
    "3. Finally, it’s safest to create a new directory to learn file operations in. You can create new files there and copy (not move!) other files there."
   ]
  },
  {
   "cell_type": "markdown",
   "metadata": {},
   "source": [
    "**Example**: Writing to a file (open, write, close)"
   ]
  },
  {
   "cell_type": "code",
   "execution_count": null,
   "metadata": {},
   "outputs": [],
   "source": [
    "x = open('testfile.txt','w') #open output stream\n",
    "x.write('some text!\\n') #write to it\n",
    "x.write('...and some more text!\\n') #write some more\n",
    "x.close() #close file stream"
   ]
  },
  {
   "cell_type": "markdown",
   "metadata": {},
   "source": [
    "**Example**: Create a file input stream"
   ]
  },
  {
   "cell_type": "code",
   "execution_count": null,
   "metadata": {},
   "outputs": [],
   "source": [
    "y = open('testfile.txt','r') #open input stream\n",
    "stuff = y.read() #reads and assigns its contents to variable\n",
    "y.close() #close stream\n",
    "print(stuff) #print contents"
   ]
  },
  {
   "cell_type": "markdown",
   "metadata": {},
   "source": [
    "**Example**: Process the contents of the file in chunks (i.e. lines)"
   ]
  },
  {
   "cell_type": "code",
   "execution_count": null,
   "metadata": {},
   "outputs": [],
   "source": [
    "y = open('testfile.txt','r') #opens input stream\n",
    "for line in y:\n",
    "    print(len(line), ': ', line, sep = '', end = '') \n",
    "    #print length of line and the line\n",
    "y.close() #close file stream"
   ]
  },
  {
   "cell_type": "markdown",
   "metadata": {},
   "source": [
    "**Example**: Read wav files and perform math calculations"
   ]
  },
  {
   "cell_type": "code",
   "execution_count": null,
   "metadata": {},
   "outputs": [],
   "source": [
    "import scipy.io.wavfile, matplotlib.pyplot \n",
    "# scripy - module for efficient math functions\n",
    "# matplotlib - a specialized module for plotting\n",
    "\n",
    "x,y = scipy.io.wavfile.read('mha.wav')\n",
    "# read sample rate and wave vector from file\n",
    "\n",
    "vdur = len(y)/x # calculate duration\n",
    "print('Duration of wave:',vdur)\n",
    "matplotlib.pyplot.plot(y) #make plot\n",
    "matplotlib.pyplot.show() #show plot"
   ]
  }
 ],
 "metadata": {
  "kernelspec": {
   "display_name": "Python 3 (ipykernel)",
   "language": "python",
   "name": "python3"
  },
  "language_info": {
   "codemirror_mode": {
    "name": "ipython",
    "version": 3
   },
   "file_extension": ".py",
   "mimetype": "text/x-python",
   "name": "python",
   "nbconvert_exporter": "python",
   "pygments_lexer": "ipython3",
   "version": "3.9.12"
  },
  "vscode": {
   "interpreter": {
    "hash": "aee8b7b246df8f9039afb4144a1f6fd8d2ca17a180786b69acc140d282b71a49"
   }
  }
 },
 "nbformat": 4,
 "nbformat_minor": 2
}
