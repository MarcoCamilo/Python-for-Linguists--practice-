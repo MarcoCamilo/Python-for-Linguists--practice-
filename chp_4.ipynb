{
 "cells": [
  {
   "cell_type": "markdown",
   "metadata": {},
   "source": [
    "# Chapter 4: Input–Output"
   ]
  },
  {
   "cell_type": "markdown",
   "metadata": {},
   "source": [
    "## 4.1 Command-Line Input"
   ]
  },
  {
   "cell_type": "markdown",
   "metadata": {},
   "source": [
    "To access extra functions and variables in different optional parts of Python, you must make them available to your program with an `import` statement *always at the beginning* of your program."
   ]
  },
  {
   "cell_type": "code",
   "execution_count": 1,
   "metadata": {},
   "outputs": [
    {
     "name": "stdout",
     "output_type": "stream",
     "text": [
      "['/Library/Frameworks/Python.framework/Versions/3.10/lib/python3.10/site-packages/ipykernel_launcher.py', '--ip=127.0.0.1', '--stdin=9016', '--control=9014', '--hb=9013', '--Session.signature_scheme=\"hmac-sha256\"', '--Session.key=b\"c8733f7a-04bc-4b40-abfe-0bf1d318e270\"', '--shell=9015', '--transport=\"tcp\"', '--iopub=9017', '--f=/Users/marco-andres/Library/Jupyter/runtime/kernel-v2-63306O2WtY3BVx7AL.json']\n"
     ]
    }
   ],
   "source": [
    "import sys\n",
    "\n",
    "print(sys.argv)"
   ]
  },
  {
   "cell_type": "markdown",
   "metadata": {},
   "source": [
    "**Example**: Revising the vowel counter using `sys.argv`"
   ]
  },
  {
   "cell_type": "code",
   "execution_count": 4,
   "metadata": {},
   "outputs": [
    {
     "name": "stdout",
     "output_type": "stream",
     "text": [
      "--ip=127.0.0.1\n",
      "There are 1 vowels in this word\n"
     ]
    }
   ],
   "source": [
    "import sys\n",
    "\n",
    "vowels = \"aeiou\"\n",
    "word = sys.argv[1]\n",
    "counter = 0\n",
    "vowelcount = 0\n",
    "while counter < len(word):\n",
    "    if word[counter] in vowels:\n",
    "        vowelcount += 1\n",
    "    counter +=1\n",
    "else:\n",
    "    print(word)\n",
    "    print('There are',vowelcount,'vowels in this word')"
   ]
  }
 ],
 "metadata": {
  "kernelspec": {
   "display_name": "Python 3.10.1 64-bit",
   "language": "python",
   "name": "python3"
  },
  "language_info": {
   "codemirror_mode": {
    "name": "ipython",
    "version": 3
   },
   "file_extension": ".py",
   "mimetype": "text/x-python",
   "name": "python",
   "nbconvert_exporter": "python",
   "pygments_lexer": "ipython3",
   "version": "3.10.1"
  },
  "orig_nbformat": 4,
  "vscode": {
   "interpreter": {
    "hash": "aee8b7b246df8f9039afb4144a1f6fd8d2ca17a180786b69acc140d282b71a49"
   }
  }
 },
 "nbformat": 4,
 "nbformat_minor": 2
}
