{
 "cells": [
  {
   "cell_type": "markdown",
   "id": "1c60dd3b-48bc-4d3d-abd9-edd445b62d30",
   "metadata": {},
   "source": [
    "# Chapter 3: Control Structures"
   ]
  },
  {
   "cell_type": "markdown",
   "id": "b27d7b3e-e4b6-4f6d-8450-8385be3b7520",
   "metadata": {},
   "source": [
    "## *if* statement\n",
    "**Syntax**"
   ]
  },
  {
   "cell_type": "code",
   "execution_count": null,
   "id": "587866c4",
   "metadata": {},
   "outputs": [],
   "source": [
    "if [condition]:\n",
    "    [statement] #if condition is true"
   ]
  },
  {
   "cell_type": "markdown",
   "id": "bb5a619a",
   "metadata": {},
   "source": [
    "****Example**:**"
   ]
  },
  {
   "cell_type": "code",
   "execution_count": 1,
   "id": "4b753b70",
   "metadata": {},
   "outputs": [
    {
     "name": "stdout",
     "output_type": "stream",
     "text": [
      "that was true\n"
     ]
    }
   ],
   "source": [
    "if 2 + 2 == 4:\n",
    "    print('that was true')"
   ]
  },
  {
   "cell_type": "markdown",
   "id": "220070b0",
   "metadata": {},
   "source": [
    "****Example**:** `if` with multiple statements if true"
   ]
  },
  {
   "cell_type": "code",
   "execution_count": 3,
   "id": "726b716b",
   "metadata": {},
   "outputs": [
    {
     "name": "stdout",
     "output_type": "stream",
     "text": [
      "that was true\n",
      "...really true\n"
     ]
    }
   ],
   "source": [
    "if 2 + 2 == 4:\n",
    "    print('that was true') \n",
    "    print('...really true')"
   ]
  },
  {
   "cell_type": "markdown",
   "id": "9a42959f",
   "metadata": {},
   "source": [
    "**Example**: 1-statement `if` with additional independent statement"
   ]
  },
  {
   "cell_type": "code",
   "execution_count": 7,
   "id": "80cb8171",
   "metadata": {},
   "outputs": [
    {
     "name": "stdout",
     "output_type": "stream",
     "text": [
      "that's true\n",
      "\n",
      " or this.... (independent statement)\n"
     ]
    }
   ],
   "source": [
    "if 2 + 2 == 4:\n",
    "    print(\"that's true\")\n",
    "print('\\n', 'or this.... (independent statement)')"
   ]
  },
  {
   "cell_type": "markdown",
   "id": "4b82dd9c",
   "metadata": {},
   "source": [
    "### else statement\n",
    "**Syntax**"
   ]
  },
  {
   "cell_type": "code",
   "execution_count": null,
   "id": "23c9e514",
   "metadata": {},
   "outputs": [],
   "source": [
    "if [condition]:\n",
    "    [statement] #if true\n",
    "else:\n",
    "    [statement] #if false"
   ]
  },
  {
   "cell_type": "markdown",
   "id": "656a98d5",
   "metadata": {},
   "source": [
    "**Example**:"
   ]
  },
  {
   "cell_type": "code",
   "execution_count": 2,
   "id": "f7d4ce7d",
   "metadata": {},
   "outputs": [
    {
     "name": "stdout",
     "output_type": "stream",
     "text": [
      "that was false\n"
     ]
    }
   ],
   "source": [
    "if 2 + 2 == 5:\n",
    "    print('that was true')\n",
    "else:                      \n",
    "    print('that was false')"
   ]
  },
  {
   "cell_type": "markdown",
   "id": "995dfb13",
   "metadata": {},
   "source": [
    "**Example**: multi-statement `else` block"
   ]
  },
  {
   "cell_type": "code",
   "execution_count": 8,
   "id": "e6e6ad8f",
   "metadata": {},
   "outputs": [
    {
     "name": "stdout",
     "output_type": "stream",
     "text": [
      "but this will\n",
      "...and so will this\n"
     ]
    }
   ],
   "source": [
    "if 2 + 2 == 5: #only else block executes\n",
    "    print(\"this won't print\")\n",
    "else:\n",
    "    print('but this will')\n",
    "    print('...and so will this')"
   ]
  },
  {
   "cell_type": "markdown",
   "id": "aa682498",
   "metadata": {},
   "source": [
    "### pass statement\n",
    "= Fills an empty block."
   ]
  },
  {
   "cell_type": "code",
   "execution_count": 10,
   "id": "cb165622",
   "metadata": {},
   "outputs": [
    {
     "name": "stdout",
     "output_type": "stream",
     "text": [
      "doing something here....\n"
     ]
    }
   ],
   "source": [
    "x = 'hat' #set a variable\n",
    "if x[0] == 'a': #if word begins with \"a\"\n",
    "    pass #empty outcome\n",
    "else:\n",
    "    print('doing something here....')"
   ]
  },
  {
   "cell_type": "markdown",
   "id": "0420ffde",
   "metadata": {},
   "source": [
    "## Digression in `print`"
   ]
  },
  {
   "cell_type": "code",
   "execution_count": 11,
   "id": "35178911",
   "metadata": {},
   "outputs": [
    {
     "name": "stdout",
     "output_type": "stream",
     "text": [
      "one-two!"
     ]
    }
   ],
   "source": [
    "print('one','two',sep='-',end='!')"
   ]
  },
  {
   "cell_type": "markdown",
   "id": "b8feb92b",
   "metadata": {},
   "source": [
    "## for statement\n",
    "**Syntax**"
   ]
  },
  {
   "cell_type": "code",
   "execution_count": null,
   "id": "b76430a9",
   "metadata": {},
   "outputs": [],
   "source": [
    "for [iterating variable] in [sequence]:\n",
    "    [statement]"
   ]
  },
  {
   "cell_type": "markdown",
   "id": "23a0fdc2",
   "metadata": {},
   "source": [
    "**Example**:"
   ]
  },
  {
   "cell_type": "code",
   "execution_count": null,
   "id": "9ae0f68c",
   "metadata": {},
   "outputs": [],
   "source": [
    "for i in [1,2,3]: #iterates i over sequence\n",
    "    print(i) "
   ]
  },
  {
   "cell_type": "markdown",
   "id": "ee3c7bcb",
   "metadata": {},
   "source": [
    "**Example**: Not requiring use of value"
   ]
  },
  {
   "cell_type": "code",
   "execution_count": null,
   "id": "4cf89d55",
   "metadata": {},
   "outputs": [],
   "source": [
    "for i in [1,2,3]:\n",
    "    print('wow')"
   ]
  },
  {
   "cell_type": "markdown",
   "id": "8b3505e2",
   "metadata": {},
   "source": [
    "**Example**: Using `.format`"
   ]
  },
  {
   "cell_type": "code",
   "execution_count": null,
   "id": "2a2812e7",
   "metadata": {},
   "outputs": [],
   "source": [
    "for i in [1,2,3]: \n",
    "    print(\"{} + 2 = {}\".format(i, i+2))"
   ]
  },
  {
   "cell_type": "markdown",
   "id": "38846fe8",
   "metadata": {},
   "source": [
    "### Recursion"
   ]
  },
  {
   "cell_type": "markdown",
   "id": "86475726",
   "metadata": {},
   "source": [
    "**Example**: Recursion using `for`"
   ]
  },
  {
   "cell_type": "code",
   "execution_count": null,
   "id": "94118488",
   "metadata": {},
   "outputs": [],
   "source": [
    "total = 0 #base variable\n",
    "for i in range(5): #iterate 5 times (from 0 to 4)\n",
    "    total = total + i #reassigns value of total\n",
    "print(total) #prints only 'final' total (not indented)"
   ]
  },
  {
   "cell_type": "markdown",
   "id": "1d494779",
   "metadata": {},
   "source": [
    "**Example**: Morphological Recursion"
   ]
  },
  {
   "cell_type": "code",
   "execution_count": null,
   "id": "060f1910",
   "metadata": {},
   "outputs": [],
   "source": [
    "prefix = 'anti' #initial prefix (i)\n",
    "word = 'missile' #initial word\n",
    "print(word) #print word\n",
    "\n",
    "for i in range(3): #iterates 3 times\n",
    "    word = prefix + \"-\" + word #adds prefix\n",
    "    print(word) #prints 'all' instances"
   ]
  },
  {
   "cell_type": "markdown",
   "id": "4cffacf2",
   "metadata": {},
   "source": [
    "**Example**: Morphological Recursion over word list"
   ]
  },
  {
   "cell_type": "code",
   "execution_count": null,
   "id": "19d5b0d9",
   "metadata": {},
   "outputs": [],
   "source": [
    "prefix = 'anti'\n",
    "words = ['missile','racism','music']\n",
    "for word in words: #iterate over words\n",
    "    print(word) #print word\n",
    "    for i in range(3): #iterates 3 times\n",
    "        word = prefix + \"-\" + word #adds prefix\n",
    "        print(word) #prints 'all' instances"
   ]
  },
  {
   "cell_type": "markdown",
   "id": "7d380d93",
   "metadata": {},
   "source": [
    "### Counters"
   ]
  },
  {
   "cell_type": "markdown",
   "id": "aadf58d2",
   "metadata": {},
   "source": [
    "**Example**: Vowel Counter"
   ]
  },
  {
   "cell_type": "code",
   "execution_count": 3,
   "id": "655f3e67",
   "metadata": {},
   "outputs": [
    {
     "name": "stdout",
     "output_type": "stream",
     "text": [
      "5\n"
     ]
    }
   ],
   "source": [
    "vowels = 'aeiou'\n",
    "vowelCount = 0\n",
    "word = 'Appalachicola'\n",
    "for letter in word:\n",
    "    if letter in vowels:\n",
    "        vowelCount += 1\n",
    "print(vowelCount)\n",
    "#result is 5, because initial vowel is caps"
   ]
  },
  {
   "cell_type": "markdown",
   "id": "c25bb42d",
   "metadata": {},
   "source": [
    "**Example**: Count words if v-initial"
   ]
  },
  {
   "cell_type": "code",
   "execution_count": 4,
   "id": "cd61f70f",
   "metadata": {},
   "outputs": [
    {
     "name": "stdout",
     "output_type": "stream",
     "text": [
      "13\n"
     ]
    }
   ],
   "source": [
    "vowels = 'aeiou'\n",
    "letterCount = 0\n",
    "word = 'Appalachicola'\n",
    "if word[0].lower() in vowels:\n",
    "    for letter in word:\n",
    "        letterCount += 1\n",
    "else:\n",
    "    print('Not vowel-initial')\n",
    "print(letterCount)"
   ]
  },
  {
   "cell_type": "markdown",
   "id": "61ac4e24",
   "metadata": {},
   "source": [
    "## while"
   ]
  },
  {
   "cell_type": "markdown",
   "id": "cc5658ca",
   "metadata": {},
   "source": [
    "**Syntax**"
   ]
  },
  {
   "cell_type": "code",
   "execution_count": null,
   "id": "3fc87418",
   "metadata": {},
   "outputs": [],
   "source": [
    "while [condition]:\n",
    "    [statement(s)]"
   ]
  },
  {
   "cell_type": "markdown",
   "id": "1d78ea2e",
   "metadata": {},
   "source": [
    "**Example**:"
   ]
  },
  {
   "cell_type": "code",
   "execution_count": null,
   "id": "ff025d7e",
   "metadata": {},
   "outputs": [],
   "source": [
    "count = 0\n",
    "while count < 3:\n",
    "    count += 1 \n",
    "    print(count)"
   ]
  },
  {
   "cell_type": "markdown",
   "id": "1d78ea2e",
   "metadata": {},
   "source": [
    "**Example**: `while` within `while`"
   ]
  },
  {
   "cell_type": "code",
   "execution_count": null,
   "id": "ff025d7e",
   "metadata": {},
   "outputs": [],
   "source": [
    "word = 'alphabet' #define word\n",
    "count = 0 #define counter\n",
    "#iterate while count is less than word length\n",
    "while count < len(word): #iterate while < word length\n",
    "    print(word[count]) #print current letter \n",
    "    count += 1 #increment counter\n",
    "    othercount = 1 #start new counter\n",
    "    while othercount < count+1: #if 2nd counter < 1st\n",
    "        print('\\t',word[0:othercount]) #print prefixes\n",
    "        othercount += 1 #increment other counter\n"
   ]
  },
  {
   "cell_type": "markdown",
   "id": "f48b0239",
   "metadata": {},
   "source": [
    "**Example**: `if` within `while`"
   ]
  },
  {
   "cell_type": "code",
   "execution_count": null,
   "id": "7f41e330",
   "metadata": {},
   "outputs": [],
   "source": [
    "word = 'alphabet'\n",
    "vowels = 'aeiou'\n",
    "count = 0\n",
    "while count < len(word):\n",
    "    letter = word[count]\n",
    "    if letter not in vowels:\n",
    "        print(letter)\n",
    "    count += 1"
   ]
  },
  {
   "cell_type": "markdown",
   "id": "a12d6802",
   "metadata": {},
   "source": [
    "### Difference between `for` and `while`"
   ]
  },
  {
   "cell_type": "code",
   "execution_count": 5,
   "id": "bf1ecac4",
   "metadata": {},
   "outputs": [
    {
     "name": "stdout",
     "output_type": "stream",
     "text": [
      "1\n",
      "2\n",
      "3\n"
     ]
    }
   ],
   "source": [
    "for i in [1,2,3]:\n",
    "    print(i)"
   ]
  },
  {
   "cell_type": "code",
   "execution_count": 6,
   "id": "47c1c11d",
   "metadata": {},
   "outputs": [
    {
     "name": "stdout",
     "output_type": "stream",
     "text": [
      "1\n",
      "2\n",
      "3\n"
     ]
    }
   ],
   "source": [
    "i = 1\n",
    "while i < 4:\n",
    "    print(i)\n",
    "    i += 1"
   ]
  },
  {
   "cell_type": "markdown",
   "id": "e3c769e7",
   "metadata": {},
   "source": [
    "**Example**: Vowel Counter"
   ]
  },
  {
   "cell_type": "code",
   "execution_count": 8,
   "id": "3c9e8877",
   "metadata": {},
   "outputs": [
    {
     "name": "stdout",
     "output_type": "stream",
     "text": [
      "\n",
      " There are 7 vowels in this word! \n",
      "\n"
     ]
    }
   ],
   "source": [
    "vowels = 'aeiou'\n",
    "word = 'Winnepesaukee'\n",
    "counter = 0\n",
    "vowelCount = 0\n",
    "while counter < len(word): #iterate while < word length\n",
    "    if word[counter] in vowels: #scan for vowels\n",
    "        vowelCount += 1 #increment vowel count\n",
    "    counter +=1 #increment counter\n",
    "print('\\n', 'There are',vowelCount, 'vowels in this word!', '\\n')\n",
    "#Print result within a message."
   ]
  },
  {
   "cell_type": "markdown",
   "id": "5ba09079",
   "metadata": {},
   "source": [
    "## `break` and `continue`"
   ]
  },
  {
   "cell_type": "markdown",
   "id": "11de35d8",
   "metadata": {},
   "source": [
    "`break` = exits from the *smallest* enclosing `for`/`while`.\n",
    "\n",
    "`continue` = exits from current iteration of the *smallest* enclosing `for`/`while` and moves to the next iteration."
   ]
  },
  {
   "cell_type": "markdown",
   "id": "3273401e",
   "metadata": {},
   "source": [
    "**Syntax of break**"
   ]
  },
  {
   "cell_type": "code",
   "execution_count": null,
   "id": "d5c0d219",
   "metadata": {},
   "outputs": [],
   "source": [
    "if [condition]:\n",
    "    break #exit when true\n",
    "[else statement] #applies when condition if false"
   ]
  },
  {
   "cell_type": "markdown",
   "id": "60fbdd00",
   "metadata": {},
   "source": [
    "**Syntax of continue**"
   ]
  },
  {
   "cell_type": "code",
   "execution_count": null,
   "id": "c5d74e30",
   "metadata": {},
   "outputs": [],
   "source": [
    "for [iterating variable] in [sequence]: \n",
    "#licences a number of iterations\n",
    "    [statement(s)]\n",
    "    if [condition]:\n",
    "        continue \n",
    "        #skips the following statement if true\n",
    "        #but continues with the loop's next iteration\n",
    "    [more statement(s)]"
   ]
  },
  {
   "cell_type": "markdown",
   "id": "f8a6cf5f",
   "metadata": {},
   "source": [
    "Example: Initial consonant counter with `while`"
   ]
  },
  {
   "cell_type": "code",
   "execution_count": 9,
   "id": "be85f881",
   "metadata": {},
   "outputs": [
    {
     "name": "stdout",
     "output_type": "stream",
     "text": [
      "This word begins with 3 consonants\n"
     ]
    }
   ],
   "source": [
    "vowels = 'aeiou'\n",
    "word = \"sthenic\"\n",
    "counter = 0\n",
    "while counter < len(word): #iterate through letters\n",
    "    if word[counter] in vowels: #exit loop when vowel\n",
    "        break\n",
    "    counter += 1 #doesn't forget the increment\n",
    "print('This word begins with', counter, 'consonants')\n",
    "#Prints the result with a message."
   ]
  },
  {
   "cell_type": "markdown",
   "id": "ac3aebff",
   "metadata": {},
   "source": [
    "**Example**: Initial consonant counter with `for` "
   ]
  },
  {
   "cell_type": "code",
   "execution_count": 14,
   "id": "d02d6b55",
   "metadata": {},
   "outputs": [
    {
     "name": "stdout",
     "output_type": "stream",
     "text": [
      "This word begins with 3 consonants\n"
     ]
    }
   ],
   "source": [
    "vowels = 'aeiou'\n",
    "word = 'sthenic'\n",
    "counter = 0\n",
    "for i in range(len(word)): #go through all letters\n",
    "    if word[i] in vowels: #is current letter a vowel?\n",
    "        break #if so, exit loop\n",
    "    counter += 1 #doesn't forget the increment\n",
    "print('This word begins with', counter, 'consonants')"
   ]
  },
  {
   "cell_type": "markdown",
   "id": "b7b08f4f",
   "metadata": {},
   "source": [
    "**Example**: Consonant couter with forever `for` loop "
   ]
  },
  {
   "cell_type": "code",
   "execution_count": 15,
   "id": "991eb03e",
   "metadata": {},
   "outputs": [
    {
     "name": "stdout",
     "output_type": "stream",
     "text": [
      "This word begins with 3 consonants\n"
     ]
    }
   ],
   "source": [
    "vowels = 'aeiou'\n",
    "word = 'sthenic'\n",
    "counter = 0\n",
    "while True: #infinite loop\n",
    "    if word[counter] in vowels:\n",
    "        break #exit if vowel\n",
    "    counter += 1 #incremental counter \n",
    "print('This word begins with', counter, 'consonants')"
   ]
  },
  {
   "cell_type": "markdown",
   "id": "01cdcd21",
   "metadata": {},
   "source": [
    "**Example**: Consonant counter with `continue` statement in `for` statement"
   ]
  },
  {
   "cell_type": "code",
   "execution_count": 19,
   "id": "9273584a",
   "metadata": {},
   "outputs": [
    {
     "name": "stdout",
     "output_type": "stream",
     "text": [
      "This word has 5 consonants\n"
     ]
    }
   ],
   "source": [
    "vowels = 'aeiou'\n",
    "word = 'sthenic'\n",
    "counter = 0\n",
    "for i in range(len(word)): #iteration based on word length\n",
    "    if word[i] in vowels:\n",
    "        continue #skips loop (incl. counter) if true\n",
    "    counter += 1\n",
    "print('This word has', counter, 'consonants')"
   ]
  },
  {
   "cell_type": "markdown",
   "id": "2f8ed2c0",
   "metadata": {},
   "source": [
    "**Example**: Consonant counter with `continue` statement in `while` statement"
   ]
  },
  {
   "cell_type": "code",
   "execution_count": 20,
   "id": "4c7aba98",
   "metadata": {},
   "outputs": [
    {
     "name": "stdout",
     "output_type": "stream",
     "text": [
      "This word has 5 consonants\n"
     ]
    }
   ],
   "source": [
    "vowels = 'aeiou'\n",
    "word = 'sthenic'\n",
    "counter = 0 #consonant count\n",
    "i = 0 #letter count\n",
    "while i < len(word): #go through all letters\n",
    "    if word[i] in vowels: #if letter is vowel\n",
    "        i += 1 #increment letter count\n",
    "        continue #skips following statements if true\n",
    "    i += 1 \n",
    "    counter += 1 #increment consonant count\n",
    "    #doesn't apply if letter is vowel; skipped by continue\n",
    "print('This word has', counter, 'consonants')"
   ]
  },
  {
   "cell_type": "markdown",
   "id": "fc803b5a",
   "metadata": {},
   "source": [
    "## Applying Control Structures"
   ]
  },
  {
   "cell_type": "markdown",
   "id": "0feac052",
   "metadata": {},
   "source": [
    "**Example**: Generating CV syllables"
   ]
  },
  {
   "cell_type": "code",
   "execution_count": 23,
   "id": "0242325b",
   "metadata": {},
   "outputs": [
    {
     "name": "stdout",
     "output_type": "stream",
     "text": [
      "pa\n",
      "ta\n",
      "ka\n",
      "ba\n",
      "da\n",
      "ga\n",
      "pe\n",
      "te\n",
      "ke\n",
      "be\n",
      "de\n",
      "ge\n",
      "pi\n",
      "ti\n",
      "ki\n",
      "bi\n",
      "di\n",
      "gi\n",
      "po\n",
      "to\n",
      "ko\n",
      "bo\n",
      "do\n",
      "go\n",
      "pu\n",
      "tu\n",
      "ku\n",
      "bu\n",
      "du\n",
      "gu\n"
     ]
    }
   ],
   "source": [
    "vowels = \"aeiou\"\n",
    "consonants = \"ptkbdg\"\n",
    "for v in vowels: #selects each vowel\n",
    "    for c in consonants: #selects each consonant\n",
    "        print(c,v,sep='') #prints CV syllables"
   ]
  },
  {
   "cell_type": "markdown",
   "id": "7166c421",
   "metadata": {},
   "source": [
    "**Example**: Generating CVC syllables"
   ]
  },
  {
   "cell_type": "code",
   "execution_count": 25,
   "id": "1fd287d8",
   "metadata": {},
   "outputs": [
    {
     "name": "stdout",
     "output_type": "stream",
     "text": [
      "pap\n",
      "pat\n",
      "pak\n",
      "pab\n",
      "pad\n",
      "pag\n",
      "tap\n",
      "tat\n",
      "tak\n",
      "tab\n",
      "tad\n",
      "tag\n",
      "kap\n",
      "kat\n",
      "kak\n",
      "kab\n",
      "kad\n",
      "kag\n",
      "bap\n",
      "bat\n",
      "bak\n",
      "bab\n",
      "bad\n",
      "bag\n",
      "dap\n",
      "dat\n",
      "dak\n",
      "dab\n",
      "dad\n",
      "dag\n",
      "gap\n",
      "gat\n",
      "gak\n",
      "gab\n",
      "gad\n",
      "gag\n",
      "pep\n",
      "pet\n",
      "pek\n",
      "peb\n",
      "ped\n",
      "peg\n",
      "tep\n",
      "tet\n",
      "tek\n",
      "teb\n",
      "ted\n",
      "teg\n",
      "kep\n",
      "ket\n",
      "kek\n",
      "keb\n",
      "ked\n",
      "keg\n",
      "bep\n",
      "bet\n",
      "bek\n",
      "beb\n",
      "bed\n",
      "beg\n",
      "dep\n",
      "det\n",
      "dek\n",
      "deb\n",
      "ded\n",
      "deg\n",
      "gep\n",
      "get\n",
      "gek\n",
      "geb\n",
      "ged\n",
      "geg\n",
      "pip\n",
      "pit\n",
      "pik\n",
      "pib\n",
      "pid\n",
      "pig\n",
      "tip\n",
      "tit\n",
      "tik\n",
      "tib\n",
      "tid\n",
      "tig\n",
      "kip\n",
      "kit\n",
      "kik\n",
      "kib\n",
      "kid\n",
      "kig\n",
      "bip\n",
      "bit\n",
      "bik\n",
      "bib\n",
      "bid\n",
      "big\n",
      "dip\n",
      "dit\n",
      "dik\n",
      "dib\n",
      "did\n",
      "dig\n",
      "gip\n",
      "git\n",
      "gik\n",
      "gib\n",
      "gid\n",
      "gig\n",
      "pop\n",
      "pot\n",
      "pok\n",
      "pob\n",
      "pod\n",
      "pog\n",
      "top\n",
      "tot\n",
      "tok\n",
      "tob\n",
      "tod\n",
      "tog\n",
      "kop\n",
      "kot\n",
      "kok\n",
      "kob\n",
      "kod\n",
      "kog\n",
      "bop\n",
      "bot\n",
      "bok\n",
      "bob\n",
      "bod\n",
      "bog\n",
      "dop\n",
      "dot\n",
      "dok\n",
      "dob\n",
      "dod\n",
      "dog\n",
      "gop\n",
      "got\n",
      "gok\n",
      "gob\n",
      "god\n",
      "gog\n",
      "pup\n",
      "put\n",
      "puk\n",
      "pub\n",
      "pud\n",
      "pug\n",
      "tup\n",
      "tut\n",
      "tuk\n",
      "tub\n",
      "tud\n",
      "tug\n",
      "kup\n",
      "kut\n",
      "kuk\n",
      "kub\n",
      "kud\n",
      "kug\n",
      "bup\n",
      "but\n",
      "buk\n",
      "bub\n",
      "bud\n",
      "bug\n",
      "dup\n",
      "dut\n",
      "duk\n",
      "dub\n",
      "dud\n",
      "dug\n",
      "gup\n",
      "gut\n",
      "guk\n",
      "gub\n",
      "gud\n",
      "gug\n"
     ]
    }
   ],
   "source": [
    "vowels = \"aeiou\"\n",
    "consonants = \"ptkbdg\"\n",
    "for v in vowels: #choose a vowel\n",
    "    for o in consonants: #choose a consonant\n",
    "        for c in consonants: #choose another consonant\n",
    "            print(o,v,c,sep=\"\")"
   ]
  },
  {
   "cell_type": "markdown",
   "id": "7166c421",
   "metadata": {},
   "source": [
    "**Example**: Generating CVC syllables with no repeating consonants"
   ]
  },
  {
   "cell_type": "code",
   "execution_count": null,
   "id": "1fd287d8",
   "metadata": {},
   "outputs": [],
   "source": [
    "vowels = \"aeiou\"\n",
    "consonants = \"ptkbdg\"\n",
    "for v in vowels: #choose a vowel\n",
    "    for o in consonants: #choose a consonant\n",
    "        for c in consonants: #choose another consonant\n",
    "            if o == c:\n",
    "                continue\n",
    "            print(o,v,c,sep=\"\")"
   ]
  },
  {
   "cell_type": "markdown",
   "id": "32ad1114",
   "metadata": {},
   "source": [
    "(*In the example above, if `break` were to be used, it would exit the nested `for` structures all together at the first time identical consonants appear.*)"
   ]
  },
  {
   "cell_type": "markdown",
   "id": "24053ab7",
   "metadata": {},
   "source": [
    "**Example**: SVO combos from made-up language"
   ]
  },
  {
   "cell_type": "code",
   "execution_count": 27,
   "id": "c180963c",
   "metadata": {},
   "outputs": [
    {
     "name": "stdout",
     "output_type": "stream",
     "text": [
      "bla ha bla\n",
      "bla ha dor\n",
      "bla ha sna\n",
      "bla mog bla\n",
      "bla mog dor\n",
      "bla mog sna\n",
      "bla ge bla\n",
      "bla ge dor\n",
      "bla ge sna\n",
      "bla di bla\n",
      "bla di dor\n",
      "bla di sna\n",
      "dor ha bla\n",
      "dor ha dor\n",
      "dor ha sna\n",
      "dor mog bla\n",
      "dor mog dor\n",
      "dor mog sna\n",
      "dor ge bla\n",
      "dor ge dor\n",
      "dor ge sna\n",
      "dor di bla\n",
      "dor di dor\n",
      "dor di sna\n",
      "sna ha bla\n",
      "sna ha dor\n",
      "sna ha sna\n",
      "sna mog bla\n",
      "sna mog dor\n",
      "sna mog sna\n",
      "sna ge bla\n",
      "sna ge dor\n",
      "sna ge sna\n",
      "sna di bla\n",
      "sna di dor\n",
      "sna di sna\n"
     ]
    }
   ],
   "source": [
    "nouns = \"bla dor sna\"\n",
    "verbs = \"ha mog ge di\"\n",
    "for s in nouns.split():\n",
    "    for v in verbs.split():\n",
    "        for o in nouns.split():\n",
    "            print(s,v,o)"
   ]
  },
  {
   "cell_type": "markdown",
   "id": "679cf4a3",
   "metadata": {},
   "source": [
    "**Example**: Sentences with transitive and intransitive verbs"
   ]
  },
  {
   "cell_type": "code",
   "execution_count": 29,
   "id": "ba1069ad",
   "metadata": {},
   "outputs": [
    {
     "name": "stdout",
     "output_type": "stream",
     "text": [
      "bla ha\n",
      "bla mog bla\n",
      "bla mog dor\n",
      "bla mog sna\n",
      "bla ge\n",
      "bla di bla\n",
      "bla di dor\n",
      "bla di sna\n",
      "dor ha\n",
      "dor mog bla\n",
      "dor mog dor\n",
      "dor mog sna\n",
      "dor ge\n",
      "dor di bla\n",
      "dor di dor\n",
      "dor di sna\n",
      "sna ha\n",
      "sna mog bla\n",
      "sna mog dor\n",
      "sna mog sna\n",
      "sna ge\n",
      "sna di bla\n",
      "sna di dor\n",
      "sna di sna\n"
     ]
    }
   ],
   "source": [
    "nouns = \"bla dor sna\".split()\n",
    "verbs = \"ha mog ge di\".split()\n",
    "itv = \"ha ge\".split()\n",
    "for s in nouns:\n",
    "    for v in verbs:\n",
    "        if v in itv:\n",
    "            print(s,v)\n",
    "        else:\n",
    "            for o in nouns:\n",
    "                print(s,v,o)"
   ]
  },
  {
   "cell_type": "markdown",
   "id": "0aa7b607",
   "metadata": {},
   "source": [
    "**Example**: SVO sentences with reflexives if O == S"
   ]
  },
  {
   "cell_type": "code",
   "execution_count": 31,
   "id": "d5a31b87",
   "metadata": {},
   "outputs": [
    {
     "name": "stdout",
     "output_type": "stream",
     "text": [
      "bla ha\n",
      "bla mog vi\n",
      "bla mog dor\n",
      "bla mog sna\n",
      "bla ge\n",
      "bla di vi\n",
      "bla di dor\n",
      "bla di sna\n",
      "dor ha\n",
      "dor mog bla\n",
      "dor mog vi\n",
      "dor mog sna\n",
      "dor ge\n",
      "dor di bla\n",
      "dor di vi\n",
      "dor di sna\n",
      "sna ha\n",
      "sna mog bla\n",
      "sna mog dor\n",
      "sna mog vi\n",
      "sna ge\n",
      "sna di bla\n",
      "sna di dor\n",
      "sna di vi\n"
     ]
    }
   ],
   "source": [
    "nouns = \"bla dor sna\".split()\n",
    "verbs = \"ha mog ge di\".split()\n",
    "itv = \"ha ge\".split()\n",
    "for s in nouns:\n",
    "    for v in verbs:\n",
    "        if v in itv:\n",
    "            print(s,v)\n",
    "        else:\n",
    "            for o in nouns:\n",
    "                if o == s:\n",
    "                    o = \"vi\" #changes o to refl.\n",
    "                print(s,v,o)"
   ]
  }
 ],
 "metadata": {
  "kernelspec": {
   "display_name": "Python 3.10.1 64-bit",
   "language": "python",
   "name": "python3"
  },
  "language_info": {
   "codemirror_mode": {
    "name": "ipython",
    "version": 3
   },
   "file_extension": ".py",
   "mimetype": "text/x-python",
   "name": "python",
   "nbconvert_exporter": "python",
   "pygments_lexer": "ipython3",
   "version": "3.10.1"
  },
  "vscode": {
   "interpreter": {
    "hash": "aee8b7b246df8f9039afb4144a1f6fd8d2ca17a180786b69acc140d282b71a49"
   }
  }
 },
 "nbformat": 4,
 "nbformat_minor": 5
}
