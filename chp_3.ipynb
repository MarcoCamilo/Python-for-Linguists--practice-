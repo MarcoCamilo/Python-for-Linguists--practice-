{
 "cells": [
  {
   "cell_type": "markdown",
   "id": "1c60dd3b-48bc-4d3d-abd9-edd445b62d30",
   "metadata": {},
   "source": [
    "# Chapter 3: Control Structures"
   ]
  },
  {
   "cell_type": "markdown",
   "id": "b27d7b3e-e4b6-4f6d-8450-8385be3b7520",
   "metadata": {},
   "source": [
    "## *if* statement"
   ]
  },
  {
   "cell_type": "code",
   "execution_count": null,
   "id": "587866c4",
   "metadata": {},
   "outputs": [],
   "source": [
    "if [condition]:\n",
    "    [statement] #if condition is true"
   ]
  },
  {
   "cell_type": "markdown",
   "id": "bb5a619a",
   "metadata": {},
   "source": [
    "Example:"
   ]
  },
  {
   "cell_type": "code",
   "execution_count": 1,
   "id": "4b753b70",
   "metadata": {},
   "outputs": [
    {
     "name": "stdout",
     "output_type": "stream",
     "text": [
      "that was true\n"
     ]
    }
   ],
   "source": [
    "if 2 + 2 == 4:\n",
    "    print('that was true')"
   ]
  },
  {
   "cell_type": "markdown",
   "id": "220070b0",
   "metadata": {},
   "source": [
    "Example: `if` with multiple statements if true"
   ]
  },
  {
   "cell_type": "code",
   "execution_count": 3,
   "id": "726b716b",
   "metadata": {},
   "outputs": [
    {
     "name": "stdout",
     "output_type": "stream",
     "text": [
      "that was true\n",
      "...really true\n"
     ]
    }
   ],
   "source": [
    "if 2 + 2 == 4:\n",
    "    print('that was true') \n",
    "    print('...really true')"
   ]
  },
  {
   "cell_type": "markdown",
   "id": "9a42959f",
   "metadata": {},
   "source": [
    "Example: 1-statement `if` with additional independent statement"
   ]
  },
  {
   "cell_type": "code",
   "execution_count": 7,
   "id": "80cb8171",
   "metadata": {},
   "outputs": [
    {
     "name": "stdout",
     "output_type": "stream",
     "text": [
      "that's true\n",
      "\n",
      " or this.... (independent statement)\n"
     ]
    }
   ],
   "source": [
    "if 2 + 2 == 4:\n",
    "    print(\"that's true\")\n",
    "print('\\n', 'or this.... (independent statement)')"
   ]
  },
  {
   "cell_type": "markdown",
   "id": "4b82dd9c",
   "metadata": {},
   "source": [
    "### else statement"
   ]
  },
  {
   "cell_type": "code",
   "execution_count": null,
   "id": "23c9e514",
   "metadata": {},
   "outputs": [],
   "source": [
    "if [condition]:\n",
    "    [statement] #if true\n",
    "else:\n",
    "    [statement] #if false"
   ]
  },
  {
   "cell_type": "markdown",
   "id": "656a98d5",
   "metadata": {},
   "source": [
    "Example"
   ]
  },
  {
   "cell_type": "code",
   "execution_count": 2,
   "id": "f7d4ce7d",
   "metadata": {},
   "outputs": [
    {
     "name": "stdout",
     "output_type": "stream",
     "text": [
      "that was false\n"
     ]
    }
   ],
   "source": [
    "if 2 + 2 == 5:\n",
    "    print('that was true')\n",
    "else:                      \n",
    "    print('that was false')"
   ]
  },
  {
   "cell_type": "markdown",
   "id": "995dfb13",
   "metadata": {},
   "source": [
    "Example: multi-statement `else` block"
   ]
  },
  {
   "cell_type": "code",
   "execution_count": 8,
   "id": "e6e6ad8f",
   "metadata": {},
   "outputs": [
    {
     "name": "stdout",
     "output_type": "stream",
     "text": [
      "but this will\n",
      "...and so will this\n"
     ]
    }
   ],
   "source": [
    "if 2 + 2 == 5: #only else block executes\n",
    "    print(\"this won't print\")\n",
    "else:\n",
    "    print('but this will')\n",
    "    print('...and so will this')"
   ]
  },
  {
   "cell_type": "markdown",
   "id": "aa682498",
   "metadata": {},
   "source": [
    "### pass"
   ]
  },
  {
   "cell_type": "code",
   "execution_count": 10,
   "id": "cb165622",
   "metadata": {},
   "outputs": [
    {
     "name": "stdout",
     "output_type": "stream",
     "text": [
      "doing something here....\n"
     ]
    }
   ],
   "source": [
    "x = 'hat' #set a variable\n",
    "if x[0] == 'a': #if word begins with \"a\"\n",
    "    pass #empty outcome\n",
    "else:\n",
    "    print('doing something here....')"
   ]
  },
  {
   "cell_type": "markdown",
   "id": "0420ffde",
   "metadata": {},
   "source": [
    "## Digression in `print`"
   ]
  },
  {
   "cell_type": "code",
   "execution_count": 11,
   "id": "35178911",
   "metadata": {},
   "outputs": [
    {
     "name": "stdout",
     "output_type": "stream",
     "text": [
      "one-two!"
     ]
    }
   ],
   "source": [
    "print('one','two',sep='-',end='!')"
   ]
  },
  {
   "cell_type": "markdown",
   "id": "b8feb92b",
   "metadata": {},
   "source": [
    "## for"
   ]
  }
 ],
 "metadata": {
  "kernelspec": {
   "display_name": "Python 3.10.1 64-bit",
   "language": "python",
   "name": "python3"
  },
  "language_info": {
   "codemirror_mode": {
    "name": "ipython",
    "version": 3
   },
   "file_extension": ".py",
   "mimetype": "text/x-python",
   "name": "python",
   "nbconvert_exporter": "python",
   "pygments_lexer": "ipython3",
   "version": "3.10.1"
  },
  "vscode": {
   "interpreter": {
    "hash": "aee8b7b246df8f9039afb4144a1f6fd8d2ca17a180786b69acc140d282b71a49"
   }
  }
 },
 "nbformat": 4,
 "nbformat_minor": 5
}
